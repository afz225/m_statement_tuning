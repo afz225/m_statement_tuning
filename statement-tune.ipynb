{
 "cells": [
  {
   "cell_type": "markdown",
   "id": "9368d77f-7890-4eed-adb3-15ccc918703f",
   "metadata": {},
   "source": [
    "# Training a Statement-Tuned Encoder Model"
   ]
  },
  {
   "cell_type": "markdown",
   "id": "a3884036-3f81-4707-96e1-9275066d8d98",
   "metadata": {},
   "source": [
    "## Setup"
   ]
  },
  {
   "cell_type": "markdown",
   "id": "e38e4a9f-846a-4c63-8d11-149c35350e7a",
   "metadata": {},
   "source": [
    "Import the necessary libraries"
   ]
  },
  {
   "cell_type": "code",
   "execution_count": null,
   "id": "fb4451a6-cd0f-4a4f-949d-61244c5f3fc4",
   "metadata": {},
   "outputs": [],
   "source": [
    "from datasets import load_dataset\n",
    "from sklearn.model_selection import train_test_split\n",
    "from transformers import RobertaTokenizerFast,RobertaForSequenceClassification, Trainer, TrainingArguments, DataCollatorWithPadding\n",
    "import torch\n",
    "from torch.utils.data import DataLoader, Dataset\n",
    "from sklearn.metrics import accuracy_score, classification_report\n",
    "import evaluate\n",
    "import wandb\n",
    "import os"
   ]
  },
  {
   "cell_type": "markdown",
   "id": "580ace86-233a-4105-b257-c212215570c7",
   "metadata": {},
   "source": [
    "Setting up some global variables"
   ]
  },
  {
   "cell_type": "code",
   "execution_count": null,
   "id": "5dce7f85-a20d-46b2-934e-fecd35be288e",
   "metadata": {},
   "outputs": [],
   "source": [
    "EXPERIMENT_NAME = \"roberta-base\"\n",
    "CACHE_DIR = \"/scratch/afz225/.cache\"\n",
    "MODEL_SAVE_PATH = \"./STTS_roberta-base\""
   ]
  },
  {
   "cell_type": "markdown",
   "id": "57b51e90-6ba2-40f0-88f0-789a8f9ef621",
   "metadata": {},
   "source": [
    "Initialize the Weights and Biases Project to track the training"
   ]
  },
  {
   "cell_type": "code",
   "execution_count": null,
   "id": "ce0baf99-e812-4f6a-b052-c395af793c5e",
   "metadata": {},
   "outputs": [],
   "source": [
    "os.environ[\"WANDB_PROJECT\"]=f\"{EXPERIMENT_NAME}_train\"\n",
    "wandb.login()\n",
    "wandb.init(\n",
    "    project=f\"{EXPERIMENT_NAME}_train\",\n",
    ")"
   ]
  },
  {
   "cell_type": "markdown",
   "id": "e4677b9e-2e03-4938-b7d1-5f64e92f3a06",
   "metadata": {},
   "source": [
    "Setting up the tokenizer"
   ]
  },
  {
   "cell_type": "code",
   "execution_count": null,
   "id": "4ecbe738-b436-4043-819f-7671d5174be7",
   "metadata": {},
   "outputs": [],
   "source": [
    "TRANSFORMER=\"roberta-base\"\n",
    "tokenizer = RobertaTokenizerFast.from_pretrained(TRANSFORMER)"
   ]
  },
  {
   "cell_type": "markdown",
   "id": "361707a3-0e19-429d-a1b5-9c5968656fe2",
   "metadata": {},
   "source": [
    "Preparing the data for training. The tolerance variable describes how far from the maximum context length (512 tokens) a statement is allowed before it is discarded (if the length of a statement is less than MAX_LEN+tolerance it is truncated until it is less than or equal to MAX_LEN)"
   ]
  },
  {
   "cell_type": "code",
   "execution_count": null,
   "id": "606f8337-d801-422d-ae90-282691a60bb3",
   "metadata": {},
   "outputs": [],
   "source": [
    "tolerance = 20\n",
    "data = load_dataset('ashabrawy/STTS', cache_dir=CACHE_DIR)\n",
    "train = data['train'].filter(lambda example: example[\"is_true\"] is not None).filter(lambda example: len(tokenizer(example['statement'])['input_ids']) < 514+tolerance)"
   ]
  },
  {
   "cell_type": "markdown",
   "id": "12cfceed-49c0-4e93-925f-c0f16279f5b0",
   "metadata": {},
   "source": [
    "Splitting the data into training and validation to detect overfitting when training (we'll take a subsample of the data)"
   ]
  },
  {
   "cell_type": "code",
   "execution_count": null,
   "id": "fc122503-bd35-4e94-a6d0-d8be7763b372",
   "metadata": {},
   "outputs": [],
   "source": [
    "train = train.train_test_split(test_size=50000)['test']"
   ]
  },
  {
   "cell_type": "code",
   "execution_count": null,
   "id": "c25ff354-c9f7-4078-a70c-746822869742",
   "metadata": {},
   "outputs": [],
   "source": [
    "train_statements, val_statements, train_labels, val_labels = train_test_split(train['statement'], train['is_true'], test_size=.1)"
   ]
  },
  {
   "cell_type": "markdown",
   "id": "e05574ff-1ede-492b-8213-d0148fb6b6c4",
   "metadata": {},
   "source": [
    "Defining a PyTorch dataset to process the data to a point where it can be used directly by the HuggingFace Trainer."
   ]
  },
  {
   "cell_type": "code",
   "execution_count": null,
   "id": "c4d9822e-bff6-4a5e-a15b-9898fdd16a9b",
   "metadata": {},
   "outputs": [],
   "source": [
    "class StatementDataset(torch.utils.data.Dataset):\n",
    "    def __init__(self, statements, labels):\n",
    "        self.statements = statements\n",
    "        self.labels = labels\n",
    "\n",
    "    def __getitem__(self, idx):\n",
    "        encodings = tokenizer(self.statements[idx], truncation=True, padding=True)\n",
    "        item = {key: torch.tensor(val) for key, val in encodings.items()}\n",
    "        item['labels'] = int(self.labels[idx])\n",
    "        return item\n",
    "\n",
    "    def __len__(self):\n",
    "        return len(self.labels)"
   ]
  },
  {
   "cell_type": "code",
   "execution_count": null,
   "id": "e5eff994-fd11-4d78-9097-262ab52aaa4c",
   "metadata": {},
   "outputs": [],
   "source": [
    "train_dataset = StatementDataset(train_statements, train_labels)\n",
    "val_dataset = StatementDataset(val_statements, val_labels)"
   ]
  },
  {
   "cell_type": "markdown",
   "id": "dabde5ef-e7be-4e2e-80aa-aa2bcdd38de5",
   "metadata": {},
   "source": [
    "Classification Metrics"
   ]
  },
  {
   "cell_type": "code",
   "execution_count": null,
   "id": "2e7ea1fc-98ee-47da-a425-47a40eafcab2",
   "metadata": {},
   "outputs": [],
   "source": [
    "clf_metrics = evaluate.combine([\"accuracy\", \"f1\", \"precision\", \"recall\"])"
   ]
  },
  {
   "cell_type": "markdown",
   "id": "1ec28c43-2b17-4a17-8d05-e81b22937c9c",
   "metadata": {},
   "source": [
    "Compute Metric function to be used during training by trainer to calculate CLF metrics"
   ]
  },
  {
   "cell_type": "code",
   "execution_count": null,
   "id": "b1e5b5f2-de25-4c2c-821f-5f09b4960532",
   "metadata": {},
   "outputs": [],
   "source": [
    "def compute_metrics(eval_pred):\n",
    "    predictions, labels = eval_pred\n",
    "    # Decode generated summaries, which is in ids into text\n",
    "    _, predictions = torch.max(torch.tensor(predictions), dim=1)\n",
    "\n",
    "\n",
    "    return clf_metrics.compute(predictions=predictions, references=labels)\n"
   ]
  },
  {
   "cell_type": "markdown",
   "id": "2299a873-b545-45ec-b37c-fae9d8756f0c",
   "metadata": {},
   "source": [
    "Data Collator used to pad all sequences to the same length."
   ]
  },
  {
   "cell_type": "code",
   "execution_count": null,
   "id": "aab357f0-7fca-42b1-b927-1224add11f5e",
   "metadata": {},
   "outputs": [],
   "source": [
    "data_collator = DataCollatorWithPadding(tokenizer = tokenizer)"
   ]
  },
  {
   "cell_type": "markdown",
   "id": "b49ca9d7-691a-4792-aabc-59e0427141ba",
   "metadata": {},
   "source": [
    "## Training"
   ]
  },
  {
   "cell_type": "markdown",
   "id": "084c39e2-8084-4406-b76e-3a10af27d818",
   "metadata": {},
   "source": [
    "Initializing trainer and arguments"
   ]
  },
  {
   "cell_type": "code",
   "execution_count": null,
   "id": "81d22e0f-9e03-4658-9660-dbd77ec432c5",
   "metadata": {},
   "outputs": [],
   "source": [
    "training_args = TrainingArguments(\n",
    "    output_dir=f'./{EXPERIMENT_NAME}-outputs',          # output directory\n",
    "    num_train_epochs=2,              # total number of training epochs\n",
    "    per_device_train_batch_size=8,  # batch size per device during training\n",
    "    per_device_eval_batch_size=16,   # batch size for evaluation\n",
    "    warmup_ratio=0.1,                # number of warmup steps for learning rate scheduler\n",
    "    learning_rate=1e-06,\n",
    "    weight_decay=0.01,               # strength of weight decay\n",
    "    logging_dir=f'./{EXPERIMENT_NAME}-logs',            # directory for storing logs\n",
    "    logging_steps=1000,\n",
    "    save_steps=1000,\n",
    "    evaluation_strategy='steps',\n",
    "    save_total_limit=2,\n",
    "    load_best_model_at_end= True,\n",
    "    metric_for_best_model='f1',\n",
    "    report_to=\"wandb\",\n",
    ")\n",
    "\n",
    "model = RobertaForSequenceClassification.from_pretrained(TRANSFORMER)\n",
    "\n",
    "trainer = Trainer(\n",
    "    model=model,                         # the instantiated 🤗 Transformers model to be trained\n",
    "    args=training_args,                  # training arguments, defined above\n",
    "    train_dataset=train_dataset,         # training dataset\n",
    "    compute_metrics=compute_metrics,\n",
    "    eval_dataset=val_dataset,            # evaluation dataset\n",
    "    data_collator=data_collator\n",
    ")"
   ]
  },
  {
   "cell_type": "markdown",
   "id": "94f2bb75-8241-47f8-8f33-d93c207bc54c",
   "metadata": {},
   "source": [
    "Begin training/statement-tuning"
   ]
  },
  {
   "cell_type": "code",
   "execution_count": null,
   "id": "60956f61-ef7e-4b9d-8dfa-825fb8f4c293",
   "metadata": {
    "scrolled": true
   },
   "outputs": [],
   "source": [
    "trainer.train()"
   ]
  },
  {
   "cell_type": "markdown",
   "id": "1e66d97e-8970-4395-a30f-0232b0d46484",
   "metadata": {},
   "source": [
    "Save model locally"
   ]
  },
  {
   "cell_type": "code",
   "execution_count": null,
   "id": "0446c346-9dd0-4e67-8bb5-8b73b639afe8",
   "metadata": {},
   "outputs": [],
   "source": [
    "trainer.save_model(MODEL_SAVE_PATH)"
   ]
  },
  {
   "cell_type": "markdown",
   "id": "dfd6ab4b-9eb1-47dc-ae70-3082a484f8ce",
   "metadata": {},
   "source": [
    "Also you can push it to the hub"
   ]
  },
  {
   "cell_type": "code",
   "execution_count": null,
   "id": "b37915f0-c6d7-478c-a924-ae4bb61f1174",
   "metadata": {},
   "outputs": [],
   "source": [
    "trainer.push_to_hub(\"ashabrawy/ST-trial-model\")"
   ]
  }
 ],
 "metadata": {
  "kernelspec": {
   "display_name": "hw1",
   "language": "python",
   "name": "hw1"
  },
  "language_info": {
   "codemirror_mode": {
    "name": "ipython",
    "version": 3
   },
   "file_extension": ".py",
   "mimetype": "text/x-python",
   "name": "python",
   "nbconvert_exporter": "python",
   "pygments_lexer": "ipython3",
   "version": "3.9.18"
  }
 },
 "nbformat": 4,
 "nbformat_minor": 5
}
