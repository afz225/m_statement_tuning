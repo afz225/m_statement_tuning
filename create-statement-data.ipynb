{
 "cells": [
  {
   "cell_type": "markdown",
   "id": "2276659c-11bf-4320-97a0-656503c607b2",
   "metadata": {},
   "source": [
    "# Creating Statement Data"
   ]
  },
  {
   "cell_type": "markdown",
   "id": "9bb54bdd-da23-40ec-bacf-d659c45d45a4",
   "metadata": {},
   "source": [
    "Import necessary libraries"
   ]
  },
  {
   "cell_type": "code",
   "execution_count": 1,
   "id": "b2fd4d7c",
   "metadata": {},
   "outputs": [],
   "source": [
    "from datasets import load_dataset, Dataset\n",
    "import random\n",
    "import numpy as np\n",
    "import torch\n",
    "from sklearn.utils import resample\n",
    "import pandas as pd\n",
    "import re"
   ]
  },
  {
   "cell_type": "markdown",
   "id": "b2486333-21c2-4949-b3e6-db343dd56b08",
   "metadata": {},
   "source": [
    "Setting the random seed for reproducibility "
   ]
  },
  {
   "cell_type": "code",
   "execution_count": 23,
   "id": "24d6eba0-a7b1-4f2c-8b0b-9b0a700e936d",
   "metadata": {},
   "outputs": [
    {
     "data": {
      "application/vnd.jupyter.widget-view+json": {
       "model_id": "dcabc0e3af7140c3ba2935cd79498eef",
       "version_major": 2,
       "version_minor": 0
      },
      "text/plain": [
       "VBox(children=(HTML(value='<center> <img\\nsrc=https://huggingface.co/front/assets/huggingface_logo-noborder.sv…"
      ]
     },
     "metadata": {},
     "output_type": "display_data"
    }
   ],
   "source": [
    "from huggingface_hub import notebook_login\n",
    "\n",
    "notebook_login()"
   ]
  },
  {
   "cell_type": "code",
   "execution_count": 2,
   "id": "504b45a3",
   "metadata": {},
   "outputs": [],
   "source": [
    "SEED = 42\n",
    "NUM_PROC=5\n",
    "random.seed(SEED)\n",
    "np.random.seed(SEED)\n",
    "torch.manual_seed(SEED)\n",
    "torch.cuda.manual_seed_all(SEED)"
   ]
  },
  {
   "cell_type": "markdown",
   "id": "120531b8-d5c3-4b6c-bafe-7ff78b74ccbe",
   "metadata": {},
   "source": [
    "Setting the number of statements per corpus/dataset"
   ]
  },
  {
   "cell_type": "code",
   "execution_count": 3,
   "id": "58be3304-5859-42ea-a0ba-d02a29a6d7ee",
   "metadata": {},
   "outputs": [],
   "source": [
    "SPC = 1000"
   ]
  },
  {
   "cell_type": "code",
   "execution_count": 4,
   "id": "d3ad02dc",
   "metadata": {},
   "outputs": [],
   "source": [
    "def fill_template(templates, values):\n",
    "    temp = random.sample(templates,1)[0]\n",
    "    for i in range(len(values)):\n",
    "        temp = temp.replace(\"${\"+str(i+1)+\"}\", values[i])\n",
    "    return temp"
   ]
  },
  {
   "cell_type": "code",
   "execution_count": 5,
   "id": "8b414201",
   "metadata": {},
   "outputs": [],
   "source": [
    "def create_statement_dataset_sent_comparsion(dataset, templates, columns, label_column, num_statements=10000, prop_negative=0.5, negative_templates=None,splits=[\"train\"], num_proc=5):\n",
    "    data = load_dataset(*dataset, split=splits, cache_dir=\"/scratch/afz225/.cache\")\n",
    "    downsample = [True if num_statements<len(split) else False for split in data]\n",
    "    new_data = []\n",
    "    for i, split in enumerate(data):\n",
    "        split = pd.DataFrame(split)\n",
    "        if downsample[i]:\n",
    "            new_data.append(Dataset.from_pandas(resample(split, n_samples=num_statements, replace=False, random_state=SEED)))\n",
    "        else:\n",
    "            new_data.append(Dataset.from_pandas(resample(split, n_samples=num_statements, random_state=SEED)))\n",
    "    data = new_data\n",
    "    col_names = data[0].column_names\n",
    "    \n",
    "    def create_statements_labels(batch):\n",
    "        return {\"statement\":[fill_template([template], [batch[column][example] for column in columns]) for example in range(len(batch[label_column])) for template in templates] + [fill_template([template], [batch[column][example] for column in columns]) for example in range(len(batch[label_column])) for template in negative_templates], \"is_true\":[example for example in batch[label_column] for template in templates]+[1-example for example in batch[label_column] for template in negative_templates]}\n",
    "    \n",
    "    updated_data = [split.map(create_statements_labels,batched=True, remove_columns=col_names, num_proc=num_proc).to_pandas() for split in data]\n",
    "    updated_data = [Dataset.from_dict(resample(data,n_samples=min(SPC, len(data)), replace=False, random_state=SEED, stratify=data['is_true'])) for data in updated_data]\n",
    "    return updated_data"
   ]
  },
  {
   "cell_type": "code",
   "execution_count": 6,
   "id": "2cdc12d0",
   "metadata": {},
   "outputs": [],
   "source": [
    "def create_statement_dataset_multiple_choice(dataset, templates, question, answers, label_column, label_offset=0, num_statements=10000,splits=[\"train\"], num_proc=5, replace=False):\n",
    "    data = load_dataset(*dataset, split=splits, cache_dir=\"/scratch/afz225/.cache\")\n",
    "    downsample = [True if num_statements<len(split) else False for split in data]\n",
    "    new_data = []\n",
    "    for i, split in enumerate(data):\n",
    "        split = pd.DataFrame(split)\n",
    "        if downsample[i]:\n",
    "            new_data.append(Dataset.from_pandas(resample(split, n_samples=num_statements, replace=False, random_state=SEED)))\n",
    "        else:\n",
    "            new_data.append(Dataset.from_pandas(resample(split, n_samples=num_statements, random_state=SEED)))\n",
    "    data = new_data\n",
    "    col_names = data[0].column_names\n",
    "    def create_statements_labels(batch):\n",
    "        answer_choice = random.choices(range(len(answers)), k=len(batch[label_column])*len(templates))\n",
    "        statements = []\n",
    "        for example in range(len(batch[label_column])):\n",
    "            for template in templates:\n",
    "                statements.append(fill_template([template], [batch[question][example], batch[answers[answer_choice[example]]][example]]))\n",
    "            if replace:\n",
    "                statements.append(batch[question][example].replace(\"_\", batch[answers[answer_choice[example]]][example]))\n",
    "        \n",
    "        if replace:\n",
    "            truth = [int(str(int(example)-label_offset)==str(answer_choice[i])) for i, example in enumerate(batch[label_column]) for template in range(len(templates)+1)]\n",
    "        else:\n",
    "            truth = [int(str(int(example)-label_offset)==str(answer_choice[i])) for i, example in enumerate(batch[label_column]) for template in templates]\n",
    "        return {\"statement\":statements, \"is_true\":truth}\n",
    "    updated_data = [split.map(create_statements_labels, batched=True, remove_columns=data[0].column_names, num_proc=num_proc).to_pandas() for split in data]\n",
    "    updated_data = [Dataset.from_dict(resample(data,n_samples=min(SPC, len(data)), replace=False, random_state=SEED, stratify=data['is_true'])) for data in updated_data]\n",
    "    return updated_data"
   ]
  },
  {
   "cell_type": "code",
   "execution_count": 7,
   "id": "1a6cee0d",
   "metadata": {
    "scrolled": true
   },
   "outputs": [
    {
     "name": "stderr",
     "output_type": "stream",
     "text": [
      "/home/afz225/.conda/envs/hw1/lib/python3.9/site-packages/huggingface_hub/repocard.py:105: UserWarning: Repo card metadata block was not found. Setting CardData to empty.\n",
      "  warnings.warn(\"Repo card metadata block was not found. Setting CardData to empty.\")\n"
     ]
    },
    {
     "data": {
      "application/vnd.jupyter.widget-view+json": {
       "model_id": "7d64307ae60245c098300965118db076",
       "version_major": 2,
       "version_minor": 0
      },
      "text/plain": [
       "Map (num_proc=5):   0%|          | 0/10000 [00:00<?, ? examples/s]"
      ]
     },
     "metadata": {},
     "output_type": "display_data"
    }
   ],
   "source": [
    "dataset = [\"SetFit/qqp\"]\n",
    "templates = [\"\\\"${1}\\\" is a duplicate of \\\"${2}\\\"\", \"\\\"${1}\\\" duplicates \\\"${2}\\\"\", \"\\\"${1}\\\" is the same as \\\"${2}\\\"\", \"\\\"${1}\\\" can be stated as \\\"${2}\\\"\", \"\\\"${1}\\\" is a paraphrase of \\\"${2}\\\"\"]\n",
    "negative_templates = [\"\\\"${1}\\\" is not a duplicate of \\\"${2}\\\"\", \"\\\"${1}\\\" does not duplicate \\\"${2}\\\"\", \"\\\"${1}\\\" doesn't duplicate \\\"${2}\\\"\", \"\\\"${1}\\\" is not the same as \\\"${2}\\\"\", \"\\\"${1}\\\" is unrelated to \\\"${2}\\\"\", \"\\\"${1}\\\" can't be stated as \\\"${2}\\\"\", \"\\\"${1}\\\" can not be stated as \\\"${2}\\\"\", \"\\\"${1}\\\" is not a paraphrase of \\\"${2}\\\"\", \"\\\"${1}\\\" isn't a paraphrase of \\\"${2}\\\"\"]\n",
    "columns = ['text1', 'text2']\n",
    "label_column = 'label'\n",
    "\n",
    "qqp_statements = create_statement_dataset_sent_comparsion(dataset, templates, columns, label_column, negative_templates=negative_templates)[0]"
   ]
  },
  {
   "cell_type": "code",
   "execution_count": 9,
   "id": "4546696d-548d-4d66-ab02-d41e6a68c680",
   "metadata": {},
   "outputs": [
    {
     "data": {
      "text/plain": [
       "{'statement': ['\"How do I prepare for the IAS exam at home?\" is unrelated to \"How should one best prepare for IAS examination?\"',\n",
       "  '\"How do I improve will power?\" is a duplicate of \"How do I strengthen my will power?\"',\n",
       "  '\"Can you use celebrity photos in an app?\" is not a duplicate of \"Can you use publicly available celebrity photos for a mobile app?\"',\n",
       "  '\"What are the emergency powers of the President of India?\" is not a duplicate of \"On whose advice can the president of india declare national emergency?\"',\n",
       "  '\"Why did Myanmar change its name from Burma?\" is the same as \"Why did Burma change the name of the Arakan state to Rakhine?\"'],\n",
       " 'is_true': [0, 1, 0, 1, 0]}"
      ]
     },
     "execution_count": 9,
     "metadata": {},
     "output_type": "execute_result"
    }
   ],
   "source": [
    "qqp_statements[:5]"
   ]
  },
  {
   "cell_type": "code",
   "execution_count": 10,
   "id": "c03fac72",
   "metadata": {},
   "outputs": [
    {
     "name": "stderr",
     "output_type": "stream",
     "text": [
      "/home/afz225/.conda/envs/hw1/lib/python3.9/site-packages/datasets/load.py:1429: FutureWarning: The repository for winogrande contains custom code which must be executed to correctly load the dataset. You can inspect the repository content at https://hf.co/datasets/winogrande\n",
      "You can avoid this message in future by passing the argument `trust_remote_code=True`.\n",
      "Passing `trust_remote_code=True` will be mandatory to load this dataset from the next major release of `datasets`.\n",
      "  warnings.warn(\n"
     ]
    },
    {
     "data": {
      "application/vnd.jupyter.widget-view+json": {
       "model_id": "320f7d60f9d74c83a1c0909d11c601b3",
       "version_major": 2,
       "version_minor": 0
      },
      "text/plain": [
       "Downloading builder script:   0%|          | 0.00/5.65k [00:00<?, ?B/s]"
      ]
     },
     "metadata": {},
     "output_type": "display_data"
    },
    {
     "data": {
      "application/vnd.jupyter.widget-view+json": {
       "model_id": "be5b54ece3994651bf68770374650857",
       "version_major": 2,
       "version_minor": 0
      },
      "text/plain": [
       "Downloading readme:   0%|          | 0.00/9.97k [00:00<?, ?B/s]"
      ]
     },
     "metadata": {},
     "output_type": "display_data"
    },
    {
     "data": {
      "application/vnd.jupyter.widget-view+json": {
       "model_id": "51002969f50947f5aaa8aeebe8c6586c",
       "version_major": 2,
       "version_minor": 0
      },
      "text/plain": [
       "Map (num_proc=5):   0%|          | 0/10000 [00:00<?, ? examples/s]"
      ]
     },
     "metadata": {},
     "output_type": "display_data"
    }
   ],
   "source": [
    "dataset = [\"winogrande\", 'winogrande_xl']\n",
    "templates = [\"In \\\"${1}\\\", _ is: ${2}\", \"Q: \\\"${1}\\\", A: ${2}\", \"The missing word in: \\\"${1}\\\" is ${2}\", \"_ in: \\\"${1}\\\" is ${2}\", \"\\\"${1}\\\", _ is: ${2}\"]\n",
    "question = 'sentence'\n",
    "answers = ['option1','option2']\n",
    "label_column = 'answer'\n",
    "winogrande_statements = create_statement_dataset_multiple_choice(dataset,templates, question, answers, label_column,num_proc=NUM_PROC, label_offset=1, replace=True)[0]"
   ]
  },
  {
   "cell_type": "code",
   "execution_count": 11,
   "id": "ff0e57e6",
   "metadata": {},
   "outputs": [
    {
     "data": {
      "text/plain": [
       "1    502\n",
       "0    498\n",
       "Name: count, dtype: int64"
      ]
     },
     "execution_count": 11,
     "metadata": {},
     "output_type": "execute_result"
    }
   ],
   "source": [
    "pd.Series(winogrande_statements['is_true']).value_counts()"
   ]
  },
  {
   "cell_type": "code",
   "execution_count": 12,
   "id": "67603263",
   "metadata": {},
   "outputs": [
    {
     "name": "stderr",
     "output_type": "stream",
     "text": [
      "/home/afz225/.conda/envs/hw1/lib/python3.9/site-packages/datasets/load.py:1429: FutureWarning: The repository for piqa contains custom code which must be executed to correctly load the dataset. You can inspect the repository content at https://hf.co/datasets/piqa\n",
      "You can avoid this message in future by passing the argument `trust_remote_code=True`.\n",
      "Passing `trust_remote_code=True` will be mandatory to load this dataset from the next major release of `datasets`.\n",
      "  warnings.warn(\n"
     ]
    },
    {
     "data": {
      "application/vnd.jupyter.widget-view+json": {
       "model_id": "8d69dc85c59b469aa38d43f5b36f804f",
       "version_major": 2,
       "version_minor": 0
      },
      "text/plain": [
       "Downloading builder script:   0%|          | 0.00/5.36k [00:00<?, ?B/s]"
      ]
     },
     "metadata": {},
     "output_type": "display_data"
    },
    {
     "data": {
      "application/vnd.jupyter.widget-view+json": {
       "model_id": "97e5723297df4173b779adbf6d2f387c",
       "version_major": 2,
       "version_minor": 0
      },
      "text/plain": [
       "Downloading readme:   0%|          | 0.00/8.41k [00:00<?, ?B/s]"
      ]
     },
     "metadata": {},
     "output_type": "display_data"
    },
    {
     "data": {
      "application/vnd.jupyter.widget-view+json": {
       "model_id": "2a0574c880e543da9f0422efa7f8d739",
       "version_major": 2,
       "version_minor": 0
      },
      "text/plain": [
       "Downloading data:   0%|          | 0.00/1.82M [00:00<?, ?B/s]"
      ]
     },
     "metadata": {},
     "output_type": "display_data"
    },
    {
     "data": {
      "application/vnd.jupyter.widget-view+json": {
       "model_id": "745404fbe16e4ec8874a4a2c5fb20961",
       "version_major": 2,
       "version_minor": 0
      },
      "text/plain": [
       "Downloading data:   0%|          | 0.00/815k [00:00<?, ?B/s]"
      ]
     },
     "metadata": {},
     "output_type": "display_data"
    },
    {
     "data": {
      "application/vnd.jupyter.widget-view+json": {
       "model_id": "35313b58e5ce421181369f7dd1153303",
       "version_major": 2,
       "version_minor": 0
      },
      "text/plain": [
       "Generating train split:   0%|          | 0/16113 [00:00<?, ? examples/s]"
      ]
     },
     "metadata": {},
     "output_type": "display_data"
    },
    {
     "data": {
      "application/vnd.jupyter.widget-view+json": {
       "model_id": "0cdb8f4c478649f6b9a155efebf9e79b",
       "version_major": 2,
       "version_minor": 0
      },
      "text/plain": [
       "Generating test split:   0%|          | 0/3084 [00:00<?, ? examples/s]"
      ]
     },
     "metadata": {},
     "output_type": "display_data"
    },
    {
     "data": {
      "application/vnd.jupyter.widget-view+json": {
       "model_id": "65e7f1ebd137434691d761b2e3cb642a",
       "version_major": 2,
       "version_minor": 0
      },
      "text/plain": [
       "Generating validation split:   0%|          | 0/1838 [00:00<?, ? examples/s]"
      ]
     },
     "metadata": {},
     "output_type": "display_data"
    },
    {
     "data": {
      "application/vnd.jupyter.widget-view+json": {
       "model_id": "319814aaa0b54e56b81990d9fb55a58d",
       "version_major": 2,
       "version_minor": 0
      },
      "text/plain": [
       "Map (num_proc=5):   0%|          | 0/10000 [00:00<?, ? examples/s]"
      ]
     },
     "metadata": {},
     "output_type": "display_data"
    }
   ],
   "source": [
    "dataset = [\"piqa\"]\n",
    "templates = [\"${1} ${2}\", \"Goal:${1}, Solution: ${2}\", \"If the goal is: ${1}, then the solution is: ${2}\", \"Problem: ${1}, Solution: ${2} \"]\n",
    "question = 'goal'\n",
    "answers = ['sol1','sol2']\n",
    "label_column = 'label'\n",
    "piqa_statements = create_statement_dataset_multiple_choice(dataset,templates, question, answers, label_column,num_proc=NUM_PROC)[0]"
   ]
  },
  {
   "cell_type": "code",
   "execution_count": 13,
   "id": "ecd72f2b",
   "metadata": {},
   "outputs": [
    {
     "data": {
      "text/plain": [
       "1    505\n",
       "0    495\n",
       "Name: count, dtype: int64"
      ]
     },
     "execution_count": 13,
     "metadata": {},
     "output_type": "execute_result"
    }
   ],
   "source": [
    "pd.Series(piqa_statements['is_true']).value_counts()"
   ]
  },
  {
   "cell_type": "code",
   "execution_count": 14,
   "id": "4ce71636",
   "metadata": {},
   "outputs": [],
   "source": [
    "statement_data = {}"
   ]
  },
  {
   "cell_type": "code",
   "execution_count": 15,
   "id": "fb3f4634",
   "metadata": {},
   "outputs": [],
   "source": [
    "from datasets import concatenate_datasets\n",
    "train_datasets = [qqp_statements, winogrande_statements,piqa_statements]\n",
    "statement_data['train'] = concatenate_datasets(train_datasets)"
   ]
  },
  {
   "cell_type": "code",
   "execution_count": 16,
   "id": "3b67d0d8",
   "metadata": {},
   "outputs": [
    {
     "data": {
      "text/plain": [
       "1    1544\n",
       "0    1456\n",
       "Name: count, dtype: int64"
      ]
     },
     "execution_count": 16,
     "metadata": {},
     "output_type": "execute_result"
    }
   ],
   "source": [
    "pd.Series(statement_data['train']['is_true']).value_counts()"
   ]
  },
  {
   "cell_type": "code",
   "execution_count": 17,
   "id": "0c310931-fdf0-4878-ab17-5e283efbc573",
   "metadata": {},
   "outputs": [],
   "source": [
    "!mkdir STTS_trial"
   ]
  },
  {
   "cell_type": "code",
   "execution_count": 18,
   "id": "35a650a9",
   "metadata": {},
   "outputs": [
    {
     "data": {
      "application/vnd.jupyter.widget-view+json": {
       "model_id": "ec28dff12e91429092d3ecedf161930b",
       "version_major": 2,
       "version_minor": 0
      },
      "text/plain": [
       "Creating CSV from Arrow format:   0%|          | 0/3 [00:00<?, ?ba/s]"
      ]
     },
     "metadata": {},
     "output_type": "display_data"
    },
    {
     "data": {
      "text/plain": [
       "443163"
      ]
     },
     "execution_count": 18,
     "metadata": {},
     "output_type": "execute_result"
    }
   ],
   "source": [
    "statement_data['train'].to_csv('STTS_trial/statement_train.csv')"
   ]
  },
  {
   "cell_type": "code",
   "execution_count": 25,
   "id": "54c9de30",
   "metadata": {},
   "outputs": [
    {
     "data": {
      "application/vnd.jupyter.widget-view+json": {
       "model_id": "81f9b0b22cf84ba88feea770cee6c7c4",
       "version_major": 2,
       "version_minor": 0
      },
      "text/plain": [
       "Uploading the dataset shards:   0%|          | 0/1 [00:00<?, ?it/s]"
      ]
     },
     "metadata": {},
     "output_type": "display_data"
    },
    {
     "data": {
      "application/vnd.jupyter.widget-view+json": {
       "model_id": "e07b11f2d16a498f8478cda5081a52cb",
       "version_major": 2,
       "version_minor": 0
      },
      "text/plain": [
       "Creating parquet from Arrow format:   0%|          | 0/3 [00:00<?, ?ba/s]"
      ]
     },
     "metadata": {},
     "output_type": "display_data"
    },
    {
     "data": {
      "text/plain": [
       "CommitInfo(commit_url='https://huggingface.co/datasets/ashabrawy/STTS_trial/commit/a876e19e2d9982ca735c10e84ac038bf65d67a15', commit_message='Upload dataset', commit_description='', oid='a876e19e2d9982ca735c10e84ac038bf65d67a15', pr_url=None, pr_revision=None, pr_num=None)"
      ]
     },
     "execution_count": 25,
     "metadata": {},
     "output_type": "execute_result"
    }
   ],
   "source": [
    "statement_data['train'].push_to_hub(\"ashabrawy/STTS_trial\")"
   ]
  },
  {
   "cell_type": "code",
   "execution_count": null,
   "id": "93711bd7",
   "metadata": {},
   "outputs": [],
   "source": []
  },
  {
   "cell_type": "code",
   "execution_count": null,
   "id": "42229a20",
   "metadata": {},
   "outputs": [],
   "source": []
  },
  {
   "cell_type": "code",
   "execution_count": null,
   "id": "d0c22b66",
   "metadata": {},
   "outputs": [],
   "source": []
  },
  {
   "cell_type": "code",
   "execution_count": null,
   "id": "6516001f",
   "metadata": {},
   "outputs": [],
   "source": []
  }
 ],
 "metadata": {
  "kernelspec": {
   "display_name": "hw1",
   "language": "python",
   "name": "hw1"
  },
  "language_info": {
   "codemirror_mode": {
    "name": "ipython",
    "version": 3
   },
   "file_extension": ".py",
   "mimetype": "text/x-python",
   "name": "python",
   "nbconvert_exporter": "python",
   "pygments_lexer": "ipython3",
   "version": "3.9.18"
  }
 },
 "nbformat": 4,
 "nbformat_minor": 5
}
